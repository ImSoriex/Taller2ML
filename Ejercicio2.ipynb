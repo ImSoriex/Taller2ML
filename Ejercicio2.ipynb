{
 "cells": [
  {
   "cell_type": "code",
   "execution_count": 1,
   "id": "63970adc",
   "metadata": {},
   "outputs": [],
   "source": [
    "from sklearn.datasets import fetch_california_housing\n",
    "california = fetch_california_housing()\n",
    "X = california.data\n",
    "y = california.target"
   ]
  },
  {
   "cell_type": "code",
   "execution_count": 2,
   "id": "67913af6",
   "metadata": {},
   "outputs": [],
   "source": [
    "from sklearn.model_selection import GridSearchCV\n",
    "from sklearn.linear_model import Lasso, Ridge, ElasticNet\n",
    "from sklearn.preprocessing import StandardScaler\n",
    "from sklearn.pipeline import Pipeline\n",
    "import numpy as np\n",
    "\n",
    "alphas = np.logspace(-4, 2, 20)\n",
    "ratios = np.linspace(0, 1, 10)"
   ]
  },
  {
   "cell_type": "markdown",
   "id": "c8a60131",
   "metadata": {},
   "source": [
    "**Definicion de modelos**"
   ]
  },
  {
   "cell_type": "code",
   "execution_count": 3,
   "id": "3e5ee5b2",
   "metadata": {},
   "outputs": [],
   "source": [
    "lasso = Pipeline([\n",
    "    (\"scaler\", StandardScaler()),\n",
    "    (\"model\", Lasso(max_iter=5000))\n",
    "])\n",
    "\n",
    "ridge = Pipeline([\n",
    "    (\"scaler\", StandardScaler()),\n",
    "    (\"model\", Ridge(max_iter=5000))\n",
    "])\n",
    "\n",
    "elastic = Pipeline([\n",
    "    (\"scaler\", StandardScaler()),\n",
    "    (\"model\", ElasticNet(max_iter=5000))\n",
    "])\n",
    "\n",
    "param_lasso = {\"model__alpha\": alphas}\n",
    "param_ridge = {\"model__alpha\": alphas}\n",
    "param_elastic = {\n",
    "    \"model__alpha\": alphas,\n",
    "    \"model__l1_ratio\": ratios\n",
    "}"
   ]
  },
  {
   "cell_type": "markdown",
   "id": "d5eb3026",
   "metadata": {},
   "source": [
    "**Validacion**"
   ]
  },
  {
   "cell_type": "code",
   "execution_count": 4,
   "id": "494ae9e7",
   "metadata": {},
   "outputs": [],
   "source": [
    "from sklearn.metrics import make_scorer, mean_squared_error, mean_absolute_error\n",
    "\n",
    "scoring = {\n",
    "    \"rmse\": make_scorer(mean_squared_error, greater_is_better=False, squared=True),\n",
    "    \"mae\": make_scorer(mean_absolute_error, greater_is_better=False)\n",
    "}"
   ]
  },
  {
   "cell_type": "markdown",
   "id": "5a49fbef",
   "metadata": {},
   "source": [
    "**Lasso**"
   ]
  },
  {
   "cell_type": "code",
   "execution_count": 5,
   "id": "5362c84c",
   "metadata": {},
   "outputs": [
    {
     "name": "stdout",
     "output_type": "stream",
     "text": [
      "Mejor alpha (Lasso): 0.0008858667904100823\n",
      "RMSE (Lasso): 0.7241\n",
      "MAE (Lasso):  0.5313\n",
      "MedInc: 0.8251\n",
      "HouseAge: 0.1196\n",
      "AveRooms: -0.2535\n",
      "AveBedrms: 0.2937\n",
      "Population: -0.0033\n",
      "AveOccup: -0.0385\n",
      "Latitude: -0.8903\n",
      "Longitude: -0.8604\n",
      "Número de coeficientes eliminados (cero): 0\n"
     ]
    }
   ],
   "source": [
    "from sklearn.model_selection import GridSearchCV\n",
    "from sklearn.metrics import mean_squared_error, mean_absolute_error\n",
    "\n",
    "\n",
    "grid_lasso = GridSearchCV(\n",
    "    estimator=lasso,\n",
    "    param_grid=param_lasso,\n",
    "    scoring=\"neg_mean_squared_error\",  \n",
    "    cv=5,\n",
    "    n_jobs=-1\n",
    ")\n",
    "\n",
    "grid_lasso.fit(X, y)\n",
    "\n",
    "best_alpha_lasso = grid_lasso.best_params_[\"model__alpha\"]\n",
    "print(\"Mejor alpha (Lasso):\", best_alpha_lasso)\n",
    "\n",
    "y_pred = grid_lasso.predict(X)\n",
    "\n",
    "rmse = np.sqrt(mean_squared_error(y, y_pred))\n",
    "mae = mean_absolute_error(y, y_pred)\n",
    "\n",
    "print(f\"RMSE (Lasso): {rmse:.4f}\")\n",
    "print(f\"MAE (Lasso):  {mae:.4f}\")\n",
    "\n",
    "best_lasso = grid_lasso.best_estimator_[\"model\"]\n",
    "coef = best_lasso.coef_\n",
    "\n",
    "for name, c in zip(california.feature_names, coef):\n",
    "    print(f\"{name}: {c:.4f}\")\n",
    "\n",
    "num_zeros = np.sum(coef == 0)\n",
    "print(\"Número de coeficientes eliminados (cero):\", num_zeros)"
   ]
  },
  {
   "cell_type": "markdown",
   "id": "d2b6b7b4",
   "metadata": {},
   "source": [
    "**Gridge**"
   ]
  },
  {
   "cell_type": "code",
   "execution_count": null,
   "id": "e4e5d595",
   "metadata": {},
   "outputs": [
    {
     "name": "stdout",
     "output_type": "stream",
     "text": [
      "Mejor alpha (Ridge): 11.288378916846883\n",
      "RMSE (Ridge): 0.7241\n",
      "MAE  (Ridge): 0.5311\n",
      "\n",
      "Coeficientes Ridge:\n",
      "MedInc: 0.829310\n",
      "HouseAge: 0.119481\n",
      "AveRooms: -0.264055\n",
      "AveBedrms: 0.303760\n",
      "Population: -0.004246\n",
      "AveOccup: -0.039365\n",
      "Latitude: -0.892954\n",
      "Longitude: -0.863544\n",
      "\n",
      "Número de coeficientes |coef| < 0.01 (Ridge): 1\n"
     ]
    }
   ],
   "source": [
    "from sklearn.model_selection import GridSearchCV\n",
    "from sklearn.metrics import mean_squared_error, mean_absolute_error\n",
    "import numpy as np\n",
    "\n",
    "\n",
    "grid_ridge = GridSearchCV(\n",
    "    estimator=ridge,\n",
    "    param_grid=param_ridge,\n",
    "    scoring=\"neg_mean_squared_error\",  \n",
    "    cv=5,\n",
    "    n_jobs=-1\n",
    ")\n",
    "\n",
    "grid_ridge.fit(X, y)\n",
    "\n",
    "best_alpha_ridge = grid_ridge.best_params_[\"model__alpha\"]\n",
    "print(\"Mejor alpha (Ridge):\", best_alpha_ridge)\n",
    "\n",
    "y_pred_ridge = grid_ridge.predict(X)\n",
    "rmse_ridge = np.sqrt(mean_squared_error(y, y_pred_ridge))\n",
    "mae_ridge  = mean_absolute_error(y, y_pred_ridge)\n",
    "\n",
    "print(f\"RMSE (Ridge): {rmse_ridge:.4f}\")\n",
    "print(f\"MAE  (Ridge): {mae_ridge:.4f}\")\n",
    "\n",
    "best_ridge = grid_ridge.best_estimator_[\"model\"]\n",
    "coef_ridge = best_ridge.coef_\n",
    "\n",
    "print(\"\\nCoeficientes Ridge:\")\n",
    "for name, c in zip(california.feature_names, coef_ridge):\n",
    "    print(f\"{name}: {c:.6f}\")\n",
    "\n",
    "near_zero_count = np.sum(np.abs(coef_ridge) < 0.01)\n",
    "print(\"\\nNúmero de coeficientes |coef| < 0.01 (Ridge):\", near_zero_count)\n"
   ]
  },
  {
   "cell_type": "markdown",
   "id": "5e9acb0f",
   "metadata": {},
   "source": [
    "**Elastic Net**"
   ]
  },
  {
   "cell_type": "code",
   "execution_count": null,
   "id": "b245a2d7",
   "metadata": {},
   "outputs": [
    {
     "name": "stdout",
     "output_type": "stream",
     "text": [
      "Mejores hiperparámetros (Elastic Net):\n",
      "  alpha   = 0.0008858667904100823\n",
      "  l1_ratio= 1.0\n",
      "\n",
      "Elastic Net – CV (5 folds)\n",
      "RMSE: 0.7472\n",
      "MAE : 0.5477\n"
     ]
    }
   ],
   "source": [
    "from sklearn.model_selection import GridSearchCV, cross_val_score\n",
    "from sklearn.metrics import mean_squared_error, mean_absolute_error, make_scorer\n",
    "import numpy as np\n",
    "\n",
    "\n",
    "grid_elastic = GridSearchCV(\n",
    "    estimator=elastic,\n",
    "    param_grid=param_elastic,\n",
    "    scoring=\"neg_mean_squared_error\",  # selecciona por MSE\n",
    "    cv=5,\n",
    "    n_jobs=-1\n",
    ")\n",
    "\n",
    "grid_elastic.fit(X, y)\n",
    "\n",
    "best_params_elastic = grid_elastic.best_params_\n",
    "best_alpha_elastic   = best_params_elastic[\"model__alpha\"]\n",
    "best_l1_ratio        = best_params_elastic[\"model__l1_ratio\"]\n",
    "\n",
    "print(\"Mejores hiperparámetros (Elastic Net):\")\n",
    "print(\"  alpha   =\", best_alpha_elastic)\n",
    "print(\"  l1_ratio=\", best_l1_ratio)\n",
    "\n",
    "best_elastic = grid_elastic.best_estimator_\n",
    "\n",
    "\n",
    "cv_mse = cross_val_score(best_elastic, X, y, cv=5, scoring=\"neg_mean_squared_error\", n_jobs=-1)\n",
    "cv_rmse = np.sqrt(-cv_mse.mean())\n",
    "\n",
    "\n",
    "cv_mae = -cross_val_score(best_elastic, X, y, cv=5, scoring=\"neg_mean_absolute_error\", n_jobs=-1).mean()\n",
    "\n",
    "print(f\"\\nElastic Net – CV (5 folds)\")\n",
    "print(f\"RMSE: {cv_rmse:.4f}\")\n",
    "print(f\"MAE : {cv_mae:.4f}\")\n"
   ]
  },
  {
   "cell_type": "markdown",
   "id": "1012c252",
   "metadata": {},
   "source": [
    "**Tabla Comparativa**"
   ]
  },
  {
   "cell_type": "code",
   "execution_count": null,
   "id": "7159cb09",
   "metadata": {},
   "outputs": [
    {
     "data": {
      "text/html": [
       "<div>\n",
       "<style scoped>\n",
       "    .dataframe tbody tr th:only-of-type {\n",
       "        vertical-align: middle;\n",
       "    }\n",
       "\n",
       "    .dataframe tbody tr th {\n",
       "        vertical-align: top;\n",
       "    }\n",
       "\n",
       "    .dataframe thead th {\n",
       "        text-align: right;\n",
       "    }\n",
       "</style>\n",
       "<table border=\"1\" class=\"dataframe\">\n",
       "  <thead>\n",
       "    <tr style=\"text-align: right;\">\n",
       "      <th></th>\n",
       "      <th>Modelo</th>\n",
       "      <th>Mejor α</th>\n",
       "      <th>l1_ratio (EN)</th>\n",
       "      <th>RMSE</th>\n",
       "      <th>MAE</th>\n",
       "    </tr>\n",
       "  </thead>\n",
       "  <tbody>\n",
       "    <tr>\n",
       "      <th>0</th>\n",
       "      <td>Lasso</td>\n",
       "      <td>0.000886</td>\n",
       "      <td>NaN</td>\n",
       "      <td>0.724130</td>\n",
       "      <td>0.531262</td>\n",
       "    </tr>\n",
       "    <tr>\n",
       "      <th>1</th>\n",
       "      <td>Ridge</td>\n",
       "      <td>11.288379</td>\n",
       "      <td>NaN</td>\n",
       "      <td>0.724105</td>\n",
       "      <td>0.531131</td>\n",
       "    </tr>\n",
       "    <tr>\n",
       "      <th>2</th>\n",
       "      <td>Elastic Net</td>\n",
       "      <td>0.000886</td>\n",
       "      <td>1.0</td>\n",
       "      <td>0.747157</td>\n",
       "      <td>0.547679</td>\n",
       "    </tr>\n",
       "  </tbody>\n",
       "</table>\n",
       "</div>"
      ],
      "text/plain": [
       "        Modelo    Mejor α  l1_ratio (EN)      RMSE       MAE\n",
       "0        Lasso   0.000886            NaN  0.724130  0.531262\n",
       "1        Ridge  11.288379            NaN  0.724105  0.531131\n",
       "2  Elastic Net   0.000886            1.0  0.747157  0.547679"
      ]
     },
     "execution_count": 9,
     "metadata": {},
     "output_type": "execute_result"
    }
   ],
   "source": [
    "import pandas as pd\n",
    "from sklearn.metrics import mean_squared_error, mean_absolute_error\n",
    "\n",
    "# ---- Lasso ----\n",
    "y_pred_lasso = grid_lasso.predict(X)\n",
    "rmse_lasso = np.sqrt(mean_squared_error(y, y_pred_lasso))\n",
    "mae_lasso  = mean_absolute_error(y, y_pred_lasso)\n",
    "\n",
    "# ---- Ridge ----\n",
    "y_pred_ridge = grid_ridge.predict(X)\n",
    "rmse_ridge = np.sqrt(mean_squared_error(y, y_pred_ridge))\n",
    "mae_ridge  = mean_absolute_error(y, y_pred_ridge)\n",
    "\n",
    "# ---- Elastic Net ----\n",
    "# Usamos valores calculados antes: cv_rmse, cv_mae\n",
    "rmse_elastic = cv_rmse\n",
    "mae_elastic  = cv_mae\n",
    "\n",
    "results = pd.DataFrame({\n",
    "    \"Modelo\": [\"Lasso\", \"Ridge\", \"Elastic Net\"],\n",
    "    \"Mejor α\": [\n",
    "        best_alpha_lasso,\n",
    "        best_alpha_ridge,\n",
    "        best_alpha_elastic\n",
    "    ],\n",
    "    \"l1_ratio (EN)\": [\n",
    "        None,\n",
    "        None,\n",
    "        best_l1_ratio\n",
    "    ],\n",
    "    \"RMSE\": [rmse_lasso, rmse_ridge, rmse_elastic],\n",
    "    \"MAE\":  [mae_lasso, mae_ridge, mae_elastic]\n",
    "})\n",
    "\n",
    "results\n"
   ]
  }
 ],
 "metadata": {
  "kernelspec": {
   "display_name": "venv",
   "language": "python",
   "name": "python3"
  },
  "language_info": {
   "codemirror_mode": {
    "name": "ipython",
    "version": 3
   },
   "file_extension": ".py",
   "mimetype": "text/x-python",
   "name": "python",
   "nbconvert_exporter": "python",
   "pygments_lexer": "ipython3",
   "version": "3.13.3"
  }
 },
 "nbformat": 4,
 "nbformat_minor": 5
}
